{
 "cells": [
  {
   "cell_type": "code",
   "execution_count": null,
   "metadata": {},
   "outputs": [],
   "source": [
    "import random, pickle\n",
    "import numpy as np\n",
    "import pandas as pd\n",
    "pd.set_option('display.max_rows', 5)\n",
    "pd.set_option('display.max_columns', 10)\n",
    "import matplotlib.pyplot as plt\n",
    "plt.rcParams['figure.figsize'] = [20, 5]\n",
    "\n",
    "import plotly.express as px\n",
    "import plotly.graph_objs as go\n",
    "import plotly.offline as offline\n",
    "offline.init_notebook_mode()\n",
    "\n",
    "import sklearn\n",
    "from sklearn.cluster import KMeans\n",
    "sklearn.set_config(transform_output='pandas')\n",
    "\n",
    "from IPython.core.interactiveshell import InteractiveShell\n",
    "InteractiveShell.ast_node_interactivity = \"all\"\n",
    "from tqdm import tqdm\n",
    "\n",
    "import warnings\n",
    "warnings.simplefilter(action='ignore', category=FutureWarning)\n",
    "\n",
    "# Set the random seeds\n",
    "random.seed(hash(\"setting random seeds\") % 2**32 - 1)\n",
    "np.random.seed(hash(\"improves reproducibility\") % 2**32 - 1)"
   ]
  },
  {
   "attachments": {},
   "cell_type": "markdown",
   "metadata": {},
   "source": [
    "## Load Data"
   ]
  },
  {
   "cell_type": "code",
   "execution_count": null,
   "metadata": {},
   "outputs": [],
   "source": [
    "file_name = \"./GSE/GSE6186_scaled\"\n",
    "file = f\"{file_name}.csv\"\n",
    "df = pd.read_csv(file, index_col=0, parse_dates=True)\n",
    "df"
   ]
  },
  {
   "attachments": {},
   "cell_type": "markdown",
   "metadata": {},
   "source": [
    "# Kmeans"
   ]
  },
  {
   "cell_type": "code",
   "execution_count": null,
   "metadata": {},
   "outputs": [],
   "source": [
    "data = df.transpose()\n",
    "data"
   ]
  },
  {
   "attachments": {},
   "cell_type": "markdown",
   "metadata": {},
   "source": [
    "## finding good k=nbr_of_cluster using elbow method"
   ]
  },
  {
   "attachments": {},
   "cell_type": "markdown",
   "metadata": {},
   "source": [
    "### find elbow"
   ]
  },
  {
   "cell_type": "code",
   "execution_count": null,
   "metadata": {},
   "outputs": [],
   "source": [
    "K = range(1,1000)"
   ]
  },
  {
   "attachments": {},
   "cell_type": "markdown",
   "metadata": {},
   "source": [
    "___"
   ]
  },
  {
   "cell_type": "code",
   "execution_count": null,
   "metadata": {},
   "outputs": [],
   "source": [
    "# distortions = []\n",
    "# for k in tqdm(K):\n",
    "#     kmeans = KMeans(n_clusters=k)\n",
    "#     _ = kmeans.fit(data)\n",
    "#     distortions.append(kmeans.inertia_)\n",
    "# np.save(\"distortions.npy\", distortions)"
   ]
  },
  {
   "attachments": {},
   "cell_type": "markdown",
   "metadata": {},
   "source": [
    "___"
   ]
  },
  {
   "cell_type": "code",
   "execution_count": null,
   "metadata": {},
   "outputs": [],
   "source": [
    "# distortions = np.load(\"distortions.npy\")\n",
    "# cluster = K"
   ]
  },
  {
   "cell_type": "code",
   "execution_count": null,
   "metadata": {},
   "outputs": [],
   "source": [
    "# trace1 = {\n",
    "#   \"type\": \"scatter\",\n",
    "#   \"x\": list(K),\n",
    "#   \"y\": distortions\n",
    "# }\n",
    "# _data = [trace1]\n",
    "# layout = {\n",
    "#   \"title\": \"Elbow Method\",\n",
    "#   \"xaxis\": {\"title\": \"k\"},\n",
    "#   \"yaxis\": {\"title\": \"distortions\"}\n",
    "# }\n",
    "# fig = go.Figure(data=_data, layout=layout)\n",
    "# offline.iplot(fig)"
   ]
  },
  {
   "cell_type": "code",
   "execution_count": null,
   "metadata": {},
   "outputs": [],
   "source": [
    "# _ = plt.xlabel('k')\n",
    "# _ = plt.ylabel('sum of squared error')\n",
    "# _ = plt.plot(cluster[1: 4], distortions[1: 4])"
   ]
  },
  {
   "attachments": {},
   "cell_type": "markdown",
   "metadata": {},
   "source": [
    "### 3-means"
   ]
  },
  {
   "attachments": {},
   "cell_type": "markdown",
   "metadata": {},
   "source": [
    "### apply kmeans with 3 and save kmeans model"
   ]
  },
  {
   "cell_type": "code",
   "execution_count": null,
   "metadata": {},
   "outputs": [],
   "source": [
    "n_clusters = 3\n",
    "sz = data.shape[1]\n",
    "kmeans = KMeans(n_clusters=n_clusters)\n",
    "kmeans.fit(data)\n",
    "\n",
    "pickle.dump(kmeans, open(\"3means.pkl\", \"wb\"))"
   ]
  },
  {
   "attachments": {},
   "cell_type": "markdown",
   "metadata": {},
   "source": [
    "### load kmeans model"
   ]
  },
  {
   "cell_type": "code",
   "execution_count": null,
   "metadata": {},
   "outputs": [],
   "source": [
    "kmeans = pickle.load(open(\"3means.pkl\", \"rb\"))"
   ]
  },
  {
   "cell_type": "code",
   "execution_count": null,
   "metadata": {},
   "outputs": [],
   "source": [
    "y_pred_kmeans = kmeans.predict(data)\n",
    "_ = plt.figure(figsize=(20, 10))\n",
    "for yi in tqdm(range(n_clusters)):\n",
    "    _ = plt.subplot(3, n_clusters, yi + 1)\n",
    "    for xx in data.values[y_pred_kmeans == yi]:\n",
    "        _ = plt.plot(xx.ravel(), \"k-\", alpha=.2)\n",
    "    _ = plt.plot(kmeans.cluster_centers_[yi].ravel(), \"r-\")\n",
    "    _ = plt.xlim(0, sz)\n",
    "    _ = plt.ylim(-4, 4)\n",
    "    _ = plt.text(0.55, 0.85,'Cluster %d' % (yi + 1), transform=plt.gca().transAxes)\n",
    "    if yi == 1:\n",
    "        _ = plt.title(\"k-means\")"
   ]
  },
  {
   "cell_type": "code",
   "execution_count": null,
   "metadata": {},
   "outputs": [],
   "source": [
    "kmeans.cluster_centers_.shape"
   ]
  },
  {
   "attachments": {},
   "cell_type": "markdown",
   "metadata": {},
   "source": [
    "___"
   ]
  }
 ],
 "metadata": {
  "kernelspec": {
   "display_name": "test",
   "language": "python",
   "name": "python3"
  },
  "language_info": {
   "codemirror_mode": {
    "name": "ipython",
    "version": 3
   },
   "file_extension": ".py",
   "mimetype": "text/x-python",
   "name": "python",
   "nbconvert_exporter": "python",
   "pygments_lexer": "ipython3",
   "version": "3.9.16"
  },
  "orig_nbformat": 4
 },
 "nbformat": 4,
 "nbformat_minor": 2
}
