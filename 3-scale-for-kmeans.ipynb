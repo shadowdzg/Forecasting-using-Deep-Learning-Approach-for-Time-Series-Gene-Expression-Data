{
 "cells": [
  {
   "cell_type": "code",
   "execution_count": 14,
   "metadata": {},
   "outputs": [],
   "source": [
    "import numpy as np\n",
    "import pandas as pd\n",
    "pd.set_option('display.max_rows', 5)\n",
    "pd.set_option('display.max_columns', 10)\n",
    "from tslearn.preprocessing import TimeSeriesScalerMeanVariance\n",
    "\n",
    "from IPython.core.interactiveshell import InteractiveShell\n",
    "InteractiveShell.ast_node_interactivity = \"all\""
   ]
  },
  {
   "attachments": {},
   "cell_type": "markdown",
   "metadata": {},
   "source": [
    "## Load Data"
   ]
  },
  {
   "cell_type": "code",
   "execution_count": 15,
   "metadata": {},
   "outputs": [
    {
     "data": {
      "text/html": [
       "<div>\n",
       "<style scoped>\n",
       "    .dataframe tbody tr th:only-of-type {\n",
       "        vertical-align: middle;\n",
       "    }\n",
       "\n",
       "    .dataframe tbody tr th {\n",
       "        vertical-align: top;\n",
       "    }\n",
       "\n",
       "    .dataframe thead th {\n",
       "        text-align: right;\n",
       "    }\n",
       "</style>\n",
       "<table border=\"1\" class=\"dataframe\">\n",
       "  <thead>\n",
       "    <tr style=\"text-align: right;\">\n",
       "      <th></th>\n",
       "      <th>KP=KP00001-128</th>\n",
       "      <th>KP=KP00002-285</th>\n",
       "      <th>KP=KP00003-209</th>\n",
       "      <th>KP=KP00004-387</th>\n",
       "      <th>KP=KP00005-360</th>\n",
       "      <th>...</th>\n",
       "      <th>KP=KP14049-750</th>\n",
       "      <th>KP=KP14050-174</th>\n",
       "      <th>KP=KP14051-750</th>\n",
       "      <th>KP=KP14052-338</th>\n",
       "      <th>KP=KP14053-390</th>\n",
       "    </tr>\n",
       "    <tr>\n",
       "      <th>time</th>\n",
       "      <th></th>\n",
       "      <th></th>\n",
       "      <th></th>\n",
       "      <th></th>\n",
       "      <th></th>\n",
       "      <th></th>\n",
       "      <th></th>\n",
       "      <th></th>\n",
       "      <th></th>\n",
       "      <th></th>\n",
       "      <th></th>\n",
       "    </tr>\n",
       "  </thead>\n",
       "  <tbody>\n",
       "    <tr>\n",
       "      <th>2023-06-11 01:00:00</th>\n",
       "      <td>-2.5367</td>\n",
       "      <td>-1.8296</td>\n",
       "      <td>-2.0852</td>\n",
       "      <td>1.5347</td>\n",
       "      <td>-0.6215</td>\n",
       "      <td>...</td>\n",
       "      <td>1.4478</td>\n",
       "      <td>-1.3058</td>\n",
       "      <td>2.3805</td>\n",
       "      <td>1.9606</td>\n",
       "      <td>-0.3410</td>\n",
       "    </tr>\n",
       "    <tr>\n",
       "      <th>2023-06-11 02:00:00</th>\n",
       "      <td>-2.0547</td>\n",
       "      <td>-1.6883</td>\n",
       "      <td>-1.8746</td>\n",
       "      <td>1.7354</td>\n",
       "      <td>0.2534</td>\n",
       "      <td>...</td>\n",
       "      <td>1.0764</td>\n",
       "      <td>-1.3255</td>\n",
       "      <td>2.1307</td>\n",
       "      <td>1.6722</td>\n",
       "      <td>-0.3443</td>\n",
       "    </tr>\n",
       "    <tr>\n",
       "      <th>...</th>\n",
       "      <td>...</td>\n",
       "      <td>...</td>\n",
       "      <td>...</td>\n",
       "      <td>...</td>\n",
       "      <td>...</td>\n",
       "      <td>...</td>\n",
       "      <td>...</td>\n",
       "      <td>...</td>\n",
       "      <td>...</td>\n",
       "      <td>...</td>\n",
       "      <td>...</td>\n",
       "    </tr>\n",
       "    <tr>\n",
       "      <th>2023-06-11 22:00:00</th>\n",
       "      <td>-0.6461</td>\n",
       "      <td>-0.9241</td>\n",
       "      <td>-1.2758</td>\n",
       "      <td>-0.2868</td>\n",
       "      <td>-0.3165</td>\n",
       "      <td>...</td>\n",
       "      <td>-0.1192</td>\n",
       "      <td>-0.7466</td>\n",
       "      <td>-0.3653</td>\n",
       "      <td>-0.7483</td>\n",
       "      <td>-0.4299</td>\n",
       "    </tr>\n",
       "    <tr>\n",
       "      <th>2023-06-11 23:00:00</th>\n",
       "      <td>-1.1910</td>\n",
       "      <td>-1.3733</td>\n",
       "      <td>-1.3596</td>\n",
       "      <td>-0.0029</td>\n",
       "      <td>-0.4125</td>\n",
       "      <td>...</td>\n",
       "      <td>-0.4880</td>\n",
       "      <td>-1.3511</td>\n",
       "      <td>-0.4515</td>\n",
       "      <td>-0.7644</td>\n",
       "      <td>-0.1340</td>\n",
       "    </tr>\n",
       "  </tbody>\n",
       "</table>\n",
       "<p>23 rows × 14064 columns</p>\n",
       "</div>"
      ],
      "text/plain": [
       "                     KP=KP00001-128  KP=KP00002-285  KP=KP00003-209   \n",
       "time                                                                 \\\n",
       "2023-06-11 01:00:00         -2.5367         -1.8296         -2.0852   \n",
       "2023-06-11 02:00:00         -2.0547         -1.6883         -1.8746   \n",
       "...                             ...             ...             ...   \n",
       "2023-06-11 22:00:00         -0.6461         -0.9241         -1.2758   \n",
       "2023-06-11 23:00:00         -1.1910         -1.3733         -1.3596   \n",
       "\n",
       "                     KP=KP00004-387  KP=KP00005-360  ...  KP=KP14049-750   \n",
       "time                                                 ...                  \\\n",
       "2023-06-11 01:00:00          1.5347         -0.6215  ...          1.4478   \n",
       "2023-06-11 02:00:00          1.7354          0.2534  ...          1.0764   \n",
       "...                             ...             ...  ...             ...   \n",
       "2023-06-11 22:00:00         -0.2868         -0.3165  ...         -0.1192   \n",
       "2023-06-11 23:00:00         -0.0029         -0.4125  ...         -0.4880   \n",
       "\n",
       "                     KP=KP14050-174  KP=KP14051-750  KP=KP14052-338   \n",
       "time                                                                 \\\n",
       "2023-06-11 01:00:00         -1.3058          2.3805          1.9606   \n",
       "2023-06-11 02:00:00         -1.3255          2.1307          1.6722   \n",
       "...                             ...             ...             ...   \n",
       "2023-06-11 22:00:00         -0.7466         -0.3653         -0.7483   \n",
       "2023-06-11 23:00:00         -1.3511         -0.4515         -0.7644   \n",
       "\n",
       "                     KP=KP14053-390  \n",
       "time                                 \n",
       "2023-06-11 01:00:00         -0.3410  \n",
       "2023-06-11 02:00:00         -0.3443  \n",
       "...                             ...  \n",
       "2023-06-11 22:00:00         -0.4299  \n",
       "2023-06-11 23:00:00         -0.1340  \n",
       "\n",
       "[23 rows x 14064 columns]"
      ]
     },
     "execution_count": 15,
     "metadata": {},
     "output_type": "execute_result"
    }
   ],
   "source": [
    "file_name = \"./GSE/GSE6186_cleaned\"\n",
    "file = f\"{file_name}.csv\"\n",
    "df = pd.read_csv(file, index_col=0, parse_dates=True)\n",
    "df"
   ]
  },
  {
   "attachments": {},
   "cell_type": "markdown",
   "metadata": {},
   "source": [
    "# scale data"
   ]
  },
  {
   "attachments": {},
   "cell_type": "markdown",
   "metadata": {},
   "source": [
    "### TimeSeriesScalerMeanVariance need time as column"
   ]
  },
  {
   "attachments": {},
   "cell_type": "markdown",
   "metadata": {},
   "source": [
    "#### Transpose"
   ]
  },
  {
   "cell_type": "code",
   "execution_count": 16,
   "metadata": {},
   "outputs": [],
   "source": [
    "scaler = TimeSeriesScalerMeanVariance()\n",
    "df_scaled = scaler.fit_transform(df.T)"
   ]
  },
  {
   "cell_type": "code",
   "execution_count": 17,
   "metadata": {},
   "outputs": [
    {
     "data": {
      "text/plain": [
       "(14064, 23)"
      ]
     },
     "execution_count": 17,
     "metadata": {},
     "output_type": "execute_result"
    }
   ],
   "source": [
    "df_scaled = df_scaled.reshape(df_scaled.shape[0], df_scaled.shape[1])\n",
    "df_scaled.shape"
   ]
  },
  {
   "attachments": {},
   "cell_type": "markdown",
   "metadata": {},
   "source": [
    "## inverse Transpose"
   ]
  },
  {
   "cell_type": "code",
   "execution_count": 18,
   "metadata": {},
   "outputs": [],
   "source": [
    "df_scaled = df_scaled.T"
   ]
  },
  {
   "attachments": {},
   "cell_type": "markdown",
   "metadata": {},
   "source": [
    "### assign index/columns_name of original to scaled data"
   ]
  },
  {
   "cell_type": "code",
   "execution_count": 19,
   "metadata": {},
   "outputs": [],
   "source": [
    "df_scaled = pd.DataFrame(data=df_scaled, index=df.index, columns=df.columns)"
   ]
  },
  {
   "attachments": {},
   "cell_type": "markdown",
   "metadata": {},
   "source": [
    "# Save scaled Data"
   ]
  },
  {
   "cell_type": "code",
   "execution_count": 20,
   "metadata": {},
   "outputs": [],
   "source": [
    "df_scaled.to_csv(f\"./GSE/GSE6186_scaled.csv\", index_label='time')"
   ]
  },
  {
   "attachments": {},
   "cell_type": "markdown",
   "metadata": {},
   "source": [
    "___"
   ]
  }
 ],
 "metadata": {
  "kernelspec": {
   "display_name": "test",
   "language": "python",
   "name": "python3"
  },
  "language_info": {
   "codemirror_mode": {
    "name": "ipython",
    "version": 3
   },
   "file_extension": ".py",
   "mimetype": "text/x-python",
   "name": "python",
   "nbconvert_exporter": "python",
   "pygments_lexer": "ipython3",
   "version": "3.9.16"
  },
  "orig_nbformat": 4
 },
 "nbformat": 4,
 "nbformat_minor": 2
}
