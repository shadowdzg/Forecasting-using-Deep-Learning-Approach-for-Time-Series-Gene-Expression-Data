{
 "cells": [
  {
   "cell_type": "code",
   "execution_count": null,
   "metadata": {},
   "outputs": [],
   "source": [
    "import warnings, os, random, pickle\n",
    "warnings.filterwarnings('ignore')\n",
    "\n",
    "from sklearn.preprocessing import MinMaxScaler\n",
    "# from tqdm import tqdm\n",
    "import numpy as np\n",
    "import pandas as pd\n",
    "from datetime import datetime\n",
    "from sklearn.model_selection import train_test_split\n",
    "from sklearn.metrics import mean_squared_error\n",
    "\n",
    "from keras.models import Sequential, load_model\n",
    "from keras.callbacks import ModelCheckpoint, TensorBoard\n",
    "from keras.layers import LSTM, Dense\n",
    "from util import timeseries_generator\n",
    "\n",
    "# Set the random seeds\n",
    "os.environ['TF_CUDNN_DETERMINISTIC']='1'\n",
    "random.seed(hash(\"setting random seeds\") % 2**32 - 1)\n",
    "np.random.seed(hash(\"improves reproducibility\") % 2**32 - 1)\n",
    "import tensorflow as tf\n",
    "tf.random.set_seed(hash(\"by removing stochasticity\") % 2**32 - 1)"
   ]
  },
  {
   "cell_type": "code",
   "execution_count": null,
   "metadata": {},
   "outputs": [],
   "source": [
    "file_name = \"./GSE/GSE6186_cleaned\"\n",
    "file = f\"{file_name}.csv\"\n",
    "df = pd.read_csv(file, index_col=0, parse_dates=True)\n",
    "# df = pd.read_csv(file, index_col=0, parse_dates=True).iloc[:, 0:10]"
   ]
  },
  {
   "cell_type": "code",
   "execution_count": null,
   "metadata": {},
   "outputs": [],
   "source": [
    "kmeans = pickle.load(open(\"3means.pkl\", \"rb\"))\n",
    "data = kmeans.cluster_centers_.T\n",
    "data = pd.DataFrame(data=data, index=df.index)"
   ]
  },
  {
   "cell_type": "code",
   "execution_count": null,
   "metadata": {},
   "outputs": [],
   "source": [
    "test_size = 1\n",
    "time_steps = 1\n",
    "b_size = 1"
   ]
  },
  {
   "cell_type": "code",
   "execution_count": null,
   "metadata": {},
   "outputs": [],
   "source": [
    "def compile_fit_predict(gene, k):\n",
    "    now = datetime.now().strftime(\"%Y%m%d-%H%M%S\")\n",
    "    # logdir = f'logs/{now}'\n",
    "    logdir = f'logs'\n",
    "    os.makedirs(logdir, exist_ok=True)\n",
    "    gene = gene.reshape(-1, 1)\n",
    "    gene = gene.astype('float32')\n",
    "    \n",
    "    scaler = MinMaxScaler(feature_range=(-1, 1))\n",
    "    gene = scaler.fit_transform(gene)\n",
    "    # print(gene)\n",
    "\n",
    "    \n",
    "    X, y = timeseries_generator(pd.DataFrame(gene), time_steps, b_size)\n",
    "    X_train, X_test, y_train, y_test = train_test_split(X, y, test_size=test_size, shuffle=False)\n",
    "    \n",
    "    \"\"\" # print(X_train)\n",
    "    # print(y_train)\n",
    "    # print(X_test)\n",
    "    # print(y_test)\n",
    "    # print(X_train.shape, y_train.shape)\n",
    "    # print(X_test.shape, y_test.shape) \"\"\"\n",
    "    n_features = 1\n",
    "    n_input = time_steps\n",
    "    input_shape=(n_input, n_features)\n",
    "    model = Sequential([\n",
    "        LSTM(64, activation='relu', input_shape=input_shape),\n",
    "        Dense(1)\n",
    "    ])\n",
    "    # rmse: 0.434\n",
    "    model.compile(optimizer='adam', loss='mse')\n",
    "    \n",
    "    callbacks = [\n",
    "        # TensorBoard(log_dir=logdir,update_freq=1,histogram_freq=1,write_graph=True,write_images=True),\n",
    "        ModelCheckpoint(f'{logdir}/best_model.h5', monitor='loss', save_best_only=True, mode='min')\n",
    "    ]\n",
    "    model.fit(X_train, y_train, batch_size=100, epochs=100, validation_data=(X_test, y_test), callbacks=callbacks, verbose=0, shuffle=False)\n",
    "    model = load_model(filepath=f'{logdir}/best_model.h5')\n",
    "\n",
    "\n",
    "\n",
    "    # KMEANS\n",
    "    cluster_pred = kmeans.predict(df.T)\n",
    "    _df = df.iloc[:, np.where(cluster_pred == k)[0]]\n",
    "    # x = df.values\n",
    "    RMSE = []\n",
    "    for col in _df.columns:\n",
    "        _df[col] = _df[col].astype('float32')\n",
    "        _X, _y = timeseries_generator(_df[col], time_steps, b_size)\n",
    "        _X_train, _X_test, _y_train, _y_test = train_test_split(_X, _y, test_size=test_size, shuffle=False)\n",
    "\n",
    "        y_predicted = model(_X_test)\n",
    "        # print(y_test.shape, y_predicted.shape)\n",
    "        y_predicted = scaler.inverse_transform(y_predicted)\n",
    "        _y_test = _y_test.reshape(-1, 1)\n",
    "        rmse = mean_squared_error(_y_test, y_predicted, squared=False)\n",
    "        RMSE.append(rmse)\n",
    "    rmse = np.mean(RMSE)\n",
    "\n",
    "    del model\n",
    "    return rmse"
   ]
  },
  {
   "cell_type": "code",
   "execution_count": null,
   "metadata": {},
   "outputs": [],
   "source": [
    "RMSEs = []\n",
    "# for col in tqdm(df.columns):\n",
    "for k, col in enumerate(data.columns):\n",
    "    gene = np.array(data[col])\n",
    "    rmse = compile_fit_predict(gene, k)\n",
    "    print(f'rmse for gene {col}: rmse')\n",
    "    RMSEs.append(rmse)\n",
    "    print('so far rmse: %.3f' % np.average(RMSEs))\n",
    "print('rmse: %.3f' % np.average(RMSEs))"
   ]
  }
 ],
 "nbformat": 4,
 "nbformat_minor": 2,
 "metadata": {
  "language_info": {
   "codemirror_mode": {
    "name": "ipython",
    "version": 3
   },
   "file_extension": ".py",
   "mimetype": "text/x-python",
   "name": "python",
   "nbconvert_exporter": "python",
   "pygments_lexer": "ipython3",
   "version": 3
  },
  "orig_nbformat": 4
 }
}