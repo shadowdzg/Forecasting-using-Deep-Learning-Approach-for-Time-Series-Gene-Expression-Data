{
 "cells": [
  {
   "attachments": {},
   "cell_type": "markdown",
   "metadata": {},
   "source": []
  },
  {
   "cell_type": "code",
   "execution_count": 1,
   "metadata": {},
   "outputs": [],
   "source": [
    "import csv\n",
    "import numpy as np\n",
    "import textwrap"
   ]
  },
  {
   "cell_type": "code",
   "execution_count": 2,
   "metadata": {},
   "outputs": [],
   "source": [
    "file_name = \"./GSE/decompressed/GSE6186\""
   ]
  },
  {
   "cell_type": "code",
   "execution_count": 3,
   "metadata": {},
   "outputs": [],
   "source": [
    "file = f\"{file_name}.txt\"\n",
    "gem = []\n",
    "sample_id = [\"ID_REF\"]\n",
    "sample_title = [\" \"]\n",
    "start = False\n",
    "with open(file, 'r') as f:\n",
    "    readCsv = csv.reader(f, delimiter='\\t')\n",
    "    for row in list(readCsv):\n",
    "        if row:\n",
    "            first = row[0]\n",
    "            if first.startswith('!series_matrix_table_end'):\n",
    "                break\n",
    "            elif first.startswith('!series_matrix_table_begin'):\n",
    "                start = True\n",
    "            elif first.startswith('!Sample_title'):\n",
    "                sample_title.extend(row[1:])\n",
    "            elif first.startswith('!Sample_geo_accession'):\n",
    "                sample_id.extend(row[1:])\n",
    "            elif start:\n",
    "                gem.append(row)\n",
    "\n",
    "gem = np.array(gem, dtype='object')"
   ]
  },
  {
   "cell_type": "code",
   "execution_count": 4,
   "metadata": {},
   "outputs": [],
   "source": [
    "# header = ['\"'+f'{i}\\n{j}'.strip()+'\"' for i, j in zip(sample_id, sample_title)]\n",
    "header = ['\"{}\"'.format(f'{i}\\n{j}'.strip()) for i, j in zip(sample_id, sample_title)]"
   ]
  },
  {
   "cell_type": "code",
   "execution_count": 5,
   "metadata": {},
   "outputs": [],
   "source": [
    "def get_max_len_column_value(data_array, column):\n",
    "    # return len(max(data_array[:,[column]], key=len)[0])\n",
    "    return len(max(data_array[:,column], key=len))\n",
    "\n",
    "max_len = []\n",
    "for i in range(gem.shape[1]):\n",
    "    max_len.append(get_max_len_column_value(gem, i))"
   ]
  },
  {
   "cell_type": "code",
   "execution_count": 6,
   "metadata": {},
   "outputs": [],
   "source": [
    "def fit(phrase, length):\n",
    "    # https://stackoverflow.com/a/1166367\n",
    "    w = textwrap.TextWrapper(width=length,break_long_words=False)\n",
    "    # w = textwrap.TextWrapper(width=length,break_long_words=False,replace_whitespace=False)\n",
    "    phrase = '\\n'.join(w.wrap(phrase))\n",
    "    return phrase"
   ]
  },
  {
   "cell_type": "code",
   "execution_count": 7,
   "metadata": {},
   "outputs": [],
   "source": [
    "for i in range(gem.shape[1]):\n",
    "    header[i] = fit(header[i], max_len[i]+4)\n",
    "    # header[i] = fit(header[i], max_len[i])\n",
    "header = np.array(header, dtype='object')"
   ]
  },
  {
   "cell_type": "code",
   "execution_count": 8,
   "metadata": {},
   "outputs": [],
   "source": [
    "gem[0,:] = header # \"ID_REF\" \"GSMXXX\" \"GSMXXX\" -> \"ID_REF\" \"GSMXXX desc ...\" \"GSMXXX desc ...\""
   ]
  },
  {
   "cell_type": "code",
   "execution_count": 9,
   "metadata": {},
   "outputs": [],
   "source": [
    "# gem[0,:]\n",
    "# header\n",
    "\n",
    "# gem[1:,:]\n",
    "# gem"
   ]
  },
  {
   "cell_type": "code",
   "execution_count": 10,
   "metadata": {},
   "outputs": [],
   "source": [
    "file_name = file_name.replace('decompressed/','')\n",
    "np.savetxt(f\"{file_name}.tsv\", gem, delimiter=\"\\t\", fmt='%s')"
   ]
  }
 ],
 "metadata": {
  "kernelspec": {
   "display_name": "base",
   "language": "python",
   "name": "python3"
  },
  "language_info": {
   "codemirror_mode": {
    "name": "ipython",
    "version": 3
   },
   "file_extension": ".py",
   "mimetype": "text/x-python",
   "name": "python",
   "nbconvert_exporter": "python",
   "pygments_lexer": "ipython3",
   "version": "3.9.16"
  },
  "orig_nbformat": 4
 },
 "nbformat": 4,
 "nbformat_minor": 2
}
